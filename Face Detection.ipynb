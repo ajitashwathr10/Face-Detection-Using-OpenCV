{
 "cells": [
  {
   "cell_type": "code",
   "execution_count": 2,
   "id": "f2d849ea-27c3-44d2-ba69-6a10463d9ffa",
   "metadata": {},
   "outputs": [],
   "source": [
    "import cv2"
   ]
  },
  {
   "cell_type": "code",
   "execution_count": 14,
   "id": "f9116900-ed21-4ee3-bdc3-f327f1217c7b",
   "metadata": {},
   "outputs": [],
   "source": [
    "face = cv2.CascadeClassifier('face_detection.xml')"
   ]
  },
  {
   "cell_type": "code",
   "execution_count": 30,
   "id": "25e075ce-cd38-43ca-b755-79dacbbdc3f6",
   "metadata": {},
   "outputs": [],
   "source": [
    "img = cv2.imread('female.jpeg') #Female"
   ]
  },
  {
   "cell_type": "code",
   "execution_count": 32,
   "id": "bb2eebd3-bde5-495b-98aa-5d305ea47df2",
   "metadata": {},
   "outputs": [],
   "source": [
    "faces = face.detectMultiScale(img, 1.1, 4)"
   ]
  },
  {
   "cell_type": "code",
   "execution_count": 34,
   "id": "d13a8847-537b-4a09-b484-29c31141a92e",
   "metadata": {},
   "outputs": [],
   "source": [
    "for(x, y, z, a) in faces:\n",
    "    cv2.rectangle(img, (x, y), (x + z, y + a), (255, 0, 0), 2)"
   ]
  },
  {
   "cell_type": "code",
   "execution_count": 36,
   "id": "7a9a8691-619e-4494-8ef0-2fa6d3ffb09d",
   "metadata": {},
   "outputs": [
    {
     "data": {
      "text/plain": [
       "True"
      ]
     },
     "execution_count": 36,
     "metadata": {},
     "output_type": "execute_result"
    }
   ],
   "source": [
    "cv2.imwrite(\"face_detected.png\", img)"
   ]
  },
  {
   "cell_type": "code",
   "execution_count": 38,
   "id": "73f1af07-46cb-4966-87ee-8076cee5db2d",
   "metadata": {},
   "outputs": [
    {
     "name": "stdout",
     "output_type": "stream",
     "text": [
      "Successfully saved\n"
     ]
    }
   ],
   "source": [
    "print(\"Successfully saved\")"
   ]
  },
  
 "metadata": {
  "kernelspec": {
   "display_name": "Python 3 (ipykernel)",
   "language": "python",
   "name": "python3"
  },
  "language_info": {
   "codemirror_mode": {
    "name": "ipython",
    "version": 3
   },
   "file_extension": ".py",
   "mimetype": "text/x-python",
   "name": "python",
   "nbconvert_exporter": "python",
   "pygments_lexer": "ipython3",
   "version": "3.12.4"
  }
 },
 "nbformat": 4,
 "nbformat_minor": 5
}
