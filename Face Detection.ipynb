{
 "cells": [
  {
   "cell_type": "code",
   "execution_count": 2,
   "id": "f2d849ea-27c3-44d2-ba69-6a10463d9ffa",
   "metadata": {},
   "outputs": [],
   "source": [
    "import cv2"
   ]
  },
  {
   "cell_type": "code",
   "execution_count": 14,
   "id": "f9116900-ed21-4ee3-bdc3-f327f1217c7b",
   "metadata": {},
   "outputs": [],
   "source": [
    "face = cv2.CascadeClassifier('face_detection.xml')"
   ]
  },
  {
   "cell_type": "code",
   "execution_count": 30,
   "id": "25e075ce-cd38-43ca-b755-79dacbbdc3f6",
   "metadata": {},
   "outputs": [],
   "source": [
    "img = cv2.imread('female.jpeg') #Female"
   ]
  },
  {
   "cell_type": "code",
   "execution_count": 32,
   "id": "bb2eebd3-bde5-495b-98aa-5d305ea47df2",
   "metadata": {},
   "outputs": [],
   "source": [
    "faces = face.detectMultiScale(img, 1.1, 4)"
   ]
  },
  {
   "cell_type": "code",
   "execution_count": 34,
   "id": "d13a8847-537b-4a09-b484-29c31141a92e",
   "metadata": {},
   "outputs": [],
   "source": [
    "for(x, y, z, a) in faces:\n",
    "    cv2.rectangle(img, (x, y), (x + z, y + a), (255, 0, 0), 2)"
   ]
  },
  {
   "cell_type": "code",
   "execution_count": 36,
   "id": "7a9a8691-619e-4494-8ef0-2fa6d3ffb09d",
   "metadata": {},
   "outputs": [
    {
     "data": {
      "text/plain": [
       "True"
      ]
     },
     "execution_count": 36,
     "metadata": {},
     "output_type": "execute_result"
    }
   ],
   "source": [
    "cv2.imwrite(\"face_detected.png\", img)"
   ]
  },
  {
   "cell_type": "code",
   "execution_count": 38,
   "id": "73f1af07-46cb-4966-87ee-8076cee5db2d",
   "metadata": {},
   "outputs": [
    {
     "name": "stdout",
     "output_type": "stream",
     "text": [
      "Successfully saved\n"
     ]
    }
   ],
   "source": [
    "print(\"Successfully saved\")"
   ]
  },
  {
   "cell_type": "code",
   "execution_count": 60,
   "id": "27daeef6-f91d-48f6-80e5-e4500cb6867f",
   "metadata": {},
   "outputs": [],
   "source": [
    "img_ = cv2.imread('D://male.png') #Male"
   ]
  },
  {
   "cell_type": "code",
   "execution_count": 62,
   "id": "040d7226-c780-4b90-8872-dad94b60d5ee",
   "metadata": {},
   "outputs": [],
   "source": [
    "faces_1 = face.detectMultiScale(img_, 1.1, 4)"
   ]
  },
  {
   "cell_type": "code",
   "execution_count": 64,
   "id": "29ff216c-aed1-45d4-9548-ef3f8cf069f5",
   "metadata": {},
   "outputs": [],
   "source": [
    "for (q, w, e, r) in faces_1:\n",
    "    cv2.rectangle(img_, (q, w), (q + e, w + r), (255, 0, 0), 2)"
   ]
  },
  {
   "cell_type": "code",
   "execution_count": 72,
   "id": "46d6dceb-b28d-4efb-b3e2-bbe6a7a80385",
   "metadata": {},
   "outputs": [
    {
     "ename": "error",
     "evalue": "OpenCV(4.10.0) D:\\a\\opencv-python\\opencv-python\\opencv\\modules\\imgcodecs\\src\\loadsave.cpp:798: error: (-215:Assertion failed) !_img.empty() in function 'cv::imwrite'\n",
     "output_type": "error",
     "traceback": [
      "\u001b[1;31m---------------------------------------------------------------------------\u001b[0m",
      "\u001b[1;31merror\u001b[0m                                     Traceback (most recent call last)",
      "Cell \u001b[1;32mIn[72], line 1\u001b[0m\n\u001b[1;32m----> 1\u001b[0m \u001b[43mcv2\u001b[49m\u001b[38;5;241;43m.\u001b[39;49m\u001b[43mimwrite\u001b[49m\u001b[43m(\u001b[49m\u001b[38;5;124;43m\"\u001b[39;49m\u001b[38;5;124;43mdetected.png\u001b[39;49m\u001b[38;5;124;43m\"\u001b[39;49m\u001b[43m,\u001b[49m\u001b[43m \u001b[49m\u001b[43mimg\u001b[49m\u001b[43m)\u001b[49m \n",
      "\u001b[1;31merror\u001b[0m: OpenCV(4.10.0) D:\\a\\opencv-python\\opencv-python\\opencv\\modules\\imgcodecs\\src\\loadsave.cpp:798: error: (-215:Assertion failed) !_img.empty() in function 'cv::imwrite'\n"
     ]
    }
   ],
   "source": [
    "cv2.imwrite(\"detected.png\", img) "
   ]
  },
  {
   "cell_type": "code",
   "execution_count": null,
   "id": "e2dbfc16-72f9-4e24-a823-b43f99e048df",
   "metadata": {},
   "outputs": [],
   "source": []
  }
 ],
 "metadata": {
  "kernelspec": {
   "display_name": "Python 3 (ipykernel)",
   "language": "python",
   "name": "python3"
  },
  "language_info": {
   "codemirror_mode": {
    "name": "ipython",
    "version": 3
   },
   "file_extension": ".py",
   "mimetype": "text/x-python",
   "name": "python",
   "nbconvert_exporter": "python",
   "pygments_lexer": "ipython3",
   "version": "3.12.4"
  }
 },
 "nbformat": 4,
 "nbformat_minor": 5
}
